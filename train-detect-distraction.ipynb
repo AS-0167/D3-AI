{
 "cells": [
  {
   "cell_type": "markdown",
   "metadata": {},
   "source": [
    "### Load the Data Set"
   ]
  },
  {
   "cell_type": "code",
   "execution_count": 4,
   "metadata": {},
   "outputs": [
    {
     "name": "stdout",
     "output_type": "stream",
     "text": [
      "Loading data from: data\n"
     ]
    },
    {
     "name": "stderr",
     "output_type": "stream",
     "text": [
      "Loading classes:   0%|                            | 0/6 [00:00<?, ?it/s]\n",
      "Loading calling:   0%|                          | 0/200 [00:00<?, ?it/s]\u001b[A\n",
      "Loading calling:  18%|██▊             | 35/200 [00:00<00:00, 346.61it/s]\u001b[A\n",
      "Loading calling:  35%|█████▌          | 70/200 [00:00<00:00, 347.01it/s]\u001b[A\n",
      "Loading calling:  52%|███████▉       | 105/200 [00:00<00:00, 333.37it/s]\u001b[A\n",
      "Loading calling:  70%|██████████▍    | 139/200 [00:00<00:00, 335.11it/s]\u001b[A\n",
      "Loading calling:  88%|█████████████▏ | 176/200 [00:00<00:00, 345.37it/s]\u001b[A\n",
      "Loading classes:  17%|███▎                | 1/6 [00:00<00:02,  1.67it/s]\u001b[A\n",
      "Loading distracted:   0%|                       | 0/200 [00:00<?, ?it/s]\u001b[A\n",
      "Loading distracted:  19%|██▍          | 38/200 [00:00<00:00, 375.10it/s]\u001b[A\n",
      "Loading distracted:  38%|████▉        | 76/200 [00:00<00:00, 358.81it/s]\u001b[A\n",
      "Loading distracted:  56%|██████▋     | 112/200 [00:00<00:00, 357.97it/s]\u001b[A\n",
      "Loading distracted:  74%|████████▉   | 148/200 [00:00<00:00, 316.51it/s]\u001b[A\n",
      "Loading distracted:  90%|██████████▊ | 181/200 [00:00<00:00, 273.63it/s]\u001b[A\n",
      "Loading classes:  33%|██████▋             | 2/6 [00:01<00:02,  1.56it/s]\u001b[A\n",
      "Loading drinking:   0%|                         | 0/200 [00:00<?, ?it/s]\u001b[A\n",
      "Loading drinking:  14%|██             | 27/200 [00:00<00:00, 264.67it/s]\u001b[A\n",
      "Loading drinking:  30%|████▍          | 59/200 [00:00<00:00, 296.17it/s]\u001b[A\n",
      "Loading drinking:  46%|██████▉        | 93/200 [00:00<00:00, 313.59it/s]\u001b[A\n",
      "Loading drinking:  62%|████████▊     | 125/200 [00:00<00:00, 313.06it/s]\u001b[A\n",
      "Loading drinking:  79%|███████████   | 158/200 [00:00<00:00, 316.40it/s]\u001b[A\n",
      "Loading drinking:  96%|█████████████▌| 193/200 [00:00<00:00, 326.25it/s]\u001b[A\n",
      "Loading classes:  50%|██████████          | 3/6 [00:01<00:01,  1.54it/s]\u001b[A\n",
      "Loading looking_backward:   0%|                 | 0/200 [00:00<?, ?it/s]\u001b[A\n",
      "Loading looking_backward:  20%|█▎     | 39/200 [00:00<00:00, 389.69it/s]\u001b[A\n",
      "Loading looking_backward:  39%|██▋    | 78/200 [00:00<00:00, 280.16it/s]\u001b[A\n",
      "Loading looking_backward:  54%|███▏  | 108/200 [00:00<00:00, 254.51it/s]\u001b[A\n",
      "Loading looking_backward:  70%|████▏ | 139/200 [00:00<00:00, 271.70it/s]\u001b[A\n",
      "Loading looking_backward:  87%|█████▏| 174/200 [00:00<00:00, 293.99it/s]\u001b[A\n",
      "Loading classes:  67%|█████████████▎      | 4/6 [00:02<00:01,  1.50it/s]\u001b[A\n",
      "Loading not_distracted:   0%|                   | 0/200 [00:00<?, ?it/s]\u001b[A\n",
      "Loading not_distracted:  18%|█▋       | 37/200 [00:00<00:00, 369.19it/s]\u001b[A\n",
      "Loading not_distracted:  37%|███▎     | 74/200 [00:00<00:00, 335.01it/s]\u001b[A\n",
      "Loading not_distracted:  55%|████▍   | 110/200 [00:00<00:00, 344.19it/s]\u001b[A\n",
      "Loading not_distracted:  72%|█████▊  | 145/200 [00:00<00:00, 345.88it/s]\u001b[A\n",
      "Loading not_distracted:  90%|███████▏| 181/200 [00:00<00:00, 348.61it/s]\u001b[A\n",
      "Loading classes:  83%|████████████████▋   | 5/6 [00:03<00:00,  1.56it/s]\u001b[A\n",
      "Loading texting:   0%|                          | 0/200 [00:00<?, ?it/s]\u001b[A\n",
      "Loading texting:  18%|██▉             | 36/200 [00:00<00:00, 350.90it/s]\u001b[A\n",
      "Loading texting:  36%|█████▊          | 72/200 [00:00<00:00, 348.98it/s]\u001b[A\n",
      "Loading texting:  55%|████████▏      | 109/200 [00:00<00:00, 356.54it/s]\u001b[A\n",
      "Loading texting:  72%|██████████▉    | 145/200 [00:00<00:00, 354.64it/s]\u001b[A\n",
      "Loading texting:  90%|█████████████▌ | 181/200 [00:00<00:00, 354.95it/s]\u001b[A\n",
      "Loading classes: 100%|████████████████████| 6/6 [00:03<00:00,  1.58it/s]\u001b[A\n"
     ]
    },
    {
     "name": "stdout",
     "output_type": "stream",
     "text": [
      "Successfully loaded 1200 images\n",
      "Train: 768, Val: 192, Test: 240\n"
     ]
    }
   ],
   "source": [
    "from data_loader import load_data\n",
    "\n",
    "data_dir = \"data\"\n",
    "X, y = load_data(data_dir)\n",
    "\n",
    "from sklearn.model_selection import train_test_split\n",
    "X_train, X_test, y_train, y_test = train_test_split(X, y, test_size=0.2, random_state=42)\n",
    "X_train, X_val, y_train, y_val = train_test_split(X_train, y_train, test_size=0.2, random_state=42)\n",
    "\n",
    "print(f\"Train: {X_train.shape[0]}, Val: {X_val.shape[0]}, Test: {X_test.shape[0]}\")"
   ]
  },
  {
   "cell_type": "markdown",
   "metadata": {},
   "source": [
    "### train model"
   ]
  },
  {
   "cell_type": "code",
   "execution_count": null,
   "metadata": {},
   "outputs": [
    {
     "name": "stdout",
     "output_type": "stream",
     "text": [
      "\n",
      "training started ............\n",
      "\n",
      "Processing Batch: 0 with batch size: 32\n",
      "Processing Batch: 1 with batch size: 32\n",
      "Processing Batch: 2 with batch size: 32\n"
     ]
    }
   ],
   "source": [
    "from cnn import CNN\n",
    "\n",
    "model = CNN()\n",
    "model.train(X_train,\n",
    "            y_train,\n",
    "            X_val,\n",
    "            y_val,\n",
    "            epochs=20,\n",
    "            batch_size=32,\n",
    "            learning_rate=0.001,\n",
    "            checkpoint_dir=\"./checkpoints\",\n",
    "            checkpoint_freq=1)\n",
    "\n",
    "test_acc = model.evaluate(X_test, y_test)\n",
    "print(f\"Final Test Accuracy: {test_acc*100:.2f}%\")\n",
    "\n",
    "# Save the trained model\n",
    "model_path = \"./d3_cnn_model.pkl\"\n",
    "model.save_model(model_path)"
   ]
  },
  {
   "cell_type": "markdown",
   "metadata": {},
   "source": [
    "### resume trainig"
   ]
  },
  {
   "cell_type": "code",
   "execution_count": null,
   "metadata": {},
   "outputs": [],
   "source": [
    "from cnn import CNN\n",
    "\n",
    "model = CNN()\n",
    "model.train(X_train,\n",
    "            y_train,\n",
    "            X_val,\n",
    "            y_val,\n",
    "            epochs=20,\n",
    "            batch_size=32,\n",
    "            learning_rate=0.0001,\n",
    "            checkpoint_dir=\"./checkpoints\",\n",
    "            checkpoint_freq=1,\n",
    "            resume_from=\"./checkpoints/epoch_20.ckpt\")\n",
    "\n",
    "\n",
    "test_acc = model.evaluate(X_test, y_test)\n",
    "print(f\"Final Test Accuracy: {test_acc*100:.2f}%\")\n",
    "\n",
    "\n",
    "model_path = \"./d3_cnn_model.pkl\"\n",
    "model.save_model(model_path)"
   ]
  },
  {
   "cell_type": "markdown",
   "metadata": {},
   "source": [
    "### Evaluate Model"
   ]
  },
  {
   "cell_type": "code",
   "execution_count": 6,
   "metadata": {},
   "outputs": [
    {
     "name": "stdout",
     "output_type": "stream",
     "text": [
      "Model loaded from ./checkpoints-20250519T113839Z-1-001/checkpoints/epoch_38.ckpt\n",
      "Test Accuracy: 0.1333\n",
      "Final Test Accuracy: 13.33%\n"
     ]
    }
   ],
   "source": [
    "from cnn import CNN\n",
    "\n",
    "# model_path = \"./d3_cnn_model.pkl\"\n",
    "model_path = \"./checkpoints-20250519T113839Z-1-001/checkpoints/epoch_38.ckpt\"\n",
    "\n",
    "model = CNN()\n",
    "model.load_model(model_path)\n",
    "\n",
    "\n",
    "test_acc = model.evaluate(X_test, y_test)\n",
    "print(f\"Final Test Accuracy: {test_acc*100:.2f}%\")"
   ]
  }
 ],
 "metadata": {
  "kernelspec": {
   "display_name": "Python 3 (ipykernel)",
   "language": "python",
   "name": "python3"
  },
  "language_info": {
   "codemirror_mode": {
    "name": "ipython",
    "version": 3
   },
   "file_extension": ".py",
   "mimetype": "text/x-python",
   "name": "python",
   "nbconvert_exporter": "python",
   "pygments_lexer": "ipython3",
   "version": "3.13.3"
  }
 },
 "nbformat": 4,
 "nbformat_minor": 4
}
