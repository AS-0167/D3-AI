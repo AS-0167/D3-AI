{
 "cells": [
  {
   "cell_type": "markdown",
   "metadata": {},
   "source": [
    "### Load the Data Set"
   ]
  },
  {
   "cell_type": "code",
   "execution_count": null,
   "metadata": {},
   "outputs": [
    {
     "name": "stdout",
     "output_type": "stream",
     "text": [
      "Loading data from: data\n"
     ]
    },
    {
     "name": "stderr",
     "output_type": "stream",
     "text": [
      "Loading classes:   0%|                                                                                                                                  | 0/6 [00:00<?, ?it/s]\n",
      "Loading calling:   0%|                                                                                                                                | 0/200 [00:00<?, ?it/s]\u001b[A\n",
      "Loading calling:  12%|██████████████▊                                                                                                       | 25/200 [00:00<00:00, 249.20it/s]\u001b[A\n",
      "Loading calling:  26%|███████████████████████████████▎                                                                                      | 53/200 [00:00<00:00, 265.06it/s]\u001b[A\n",
      "Loading calling:  41%|████████████████████████████████████████████████▍                                                                     | 82/200 [00:00<00:00, 274.92it/s]\u001b[A\n",
      "Loading calling:  55%|████████████████████████████████████████████████████████████████▎                                                    | 110/200 [00:00<00:00, 227.12it/s]\u001b[A\n",
      "Loading calling:  69%|████████████████████████████████████████████████████████████████████████████████▋                                    | 138/200 [00:00<00:00, 242.33it/s]\u001b[A\n",
      "Loading calling:  84%|██████████████████████████████████████████████████████████████████████████████████████████████████▊                  | 169/200 [00:00<00:00, 261.89it/s]\u001b[A\n",
      "Loading calling: 100%|████████████████████████████████████████████████████████████████████████████████████████████████████████████████████▍| 199/200 [00:00<00:00, 272.55it/s]\u001b[A\n",
      "Loading classes:  17%|████████████████████▎                                                                                                     | 1/6 [00:00<00:03,  1.28it/s]\u001b[A\n",
      "Loading distracted:   0%|                                                                                                                             | 0/200 [00:00<?, ?it/s]\u001b[A\n",
      "Loading distracted:   9%|██████████▎                                                                                                        | 18/200 [00:00<00:01, 171.27it/s]\u001b[A\n",
      "Loading distracted:  20%|███████████████████████▌                                                                                           | 41/200 [00:00<00:00, 201.91it/s]\u001b[A\n",
      "Loading distracted:  34%|███████████████████████████████████████                                                                            | 68/200 [00:00<00:00, 231.68it/s]\u001b[A\n",
      "Loading distracted:  48%|███████████████████████████████████████████████████████▏                                                           | 96/200 [00:00<00:00, 248.23it/s]\u001b[A\n",
      "Loading distracted:  61%|█████████████████████████████████████████████████████████████████████▌                                            | 122/200 [00:00<00:00, 250.85it/s]\u001b[A\n",
      "Loading distracted:  74%|████████████████████████████████████████████████████████████████████████████████████▎                             | 148/200 [00:00<00:00, 249.37it/s]\u001b[A\n",
      "Loading distracted:  86%|██████████████████████████████████████████████████████████████████████████████████████████████████▌               | 173/200 [00:00<00:00, 241.92it/s]\u001b[A\n",
      "Loading distracted:  99%|████████████████████████████████████████████████████████████████████████████████████████████████████████████████▊ | 198/200 [00:00<00:00, 233.28it/s]\u001b[A\n",
      "Loading classes:  33%|████████████████████████████████████████▋                                                                                 | 2/6 [00:01<00:03,  1.20it/s]\u001b[A\n",
      "Loading drinking:   0%|                                                                                                                               | 0/200 [00:00<?, ?it/s]\u001b[A\n",
      "Loading drinking:   9%|██████████▌                                                                                                          | 18/200 [00:00<00:01, 175.10it/s]\u001b[A\n",
      "Loading drinking:  24%|███████████████████████████▍                                                                                         | 47/200 [00:00<00:00, 237.46it/s]\u001b[A\n",
      "Loading drinking:  36%|█████████████████████████████████████████▌                                                                           | 71/200 [00:00<00:00, 233.76it/s]\u001b[A\n",
      "Loading drinking:  48%|███████████████████████████████████████████████████████▌                                                             | 95/200 [00:00<00:00, 231.12it/s]\u001b[A\n",
      "Loading drinking:  60%|█████████████████████████████████████████████████████████████████████                                               | 119/200 [00:00<00:00, 233.35it/s]\u001b[A\n",
      "Loading drinking:  72%|██████████████████████████████████████████████████████████████████████████████████▉                                 | 143/200 [00:00<00:00, 231.11it/s]\u001b[A\n",
      "Loading drinking:  84%|████████████████████████████████████████████████████████████████████████████████████████████████▊                   | 167/200 [00:00<00:00, 225.64it/s]\u001b[A\n",
      "Loading drinking:  97%|████████████████████████████████████████████████████████████████████████████████████████████████████████████████▌   | 194/200 [00:00<00:00, 238.40it/s]\u001b[A\n",
      "Loading classes:  50%|█████████████████████████████████████████████████████████████                                                             | 3/6 [00:02<00:02,  1.17it/s]\u001b[A\n",
      "Loading looking_backward:   0%|                                                                                                                       | 0/200 [00:00<?, ?it/s]\u001b[A\n",
      "Loading looking_backward:  16%|████████████████▉                                                                                            | 31/200 [00:00<00:00, 301.88it/s]\u001b[A\n",
      "Loading looking_backward:  31%|█████████████████████████████████▊                                                                           | 62/200 [00:00<00:00, 289.09it/s]\u001b[A\n",
      "Loading looking_backward:  46%|█████████████████████████████████████████████████▌                                                           | 91/200 [00:00<00:00, 268.54it/s]\u001b[A\n",
      "Loading looking_backward:  59%|███████████████████████████████████████████████████████████████▋                                            | 118/200 [00:00<00:00, 246.57it/s]\u001b[A\n",
      "Loading looking_backward:  73%|██████████████████████████████████████████████████████████████████████████████▊                             | 146/200 [00:00<00:00, 253.32it/s]\u001b[A\n",
      "Loading looking_backward:  86%|█████████████████████████████████████████████████████████████████████████████████████████████▍              | 173/200 [00:00<00:00, 258.10it/s]\u001b[A\n",
      "Loading classes:  67%|█████████████████████████████████████████████████████████████████████████████████▎                                        | 4/6 [00:03<00:01,  1.23it/s]\u001b[A\n",
      "Loading not_distracted:   0%|                                                                                                                         | 0/200 [00:00<?, ?it/s]\u001b[A\n",
      "Loading not_distracted:  11%|████████████▏                                                                                                  | 22/200 [00:00<00:00, 202.80it/s]\u001b[A\n",
      "Loading not_distracted:  24%|██████████████████████████▋                                                                                    | 48/200 [00:00<00:00, 234.24it/s]\u001b[A\n",
      "Loading not_distracted:  36%|███████████████████████████████████████▉                                                                       | 72/200 [00:00<00:00, 232.00it/s]\u001b[A\n",
      "Loading not_distracted:  50%|███████████████████████████████████████████████████████                                                       | 100/200 [00:00<00:00, 249.30it/s]\u001b[A\n",
      "Loading not_distracted:  62%|████████████████████████████████████████████████████████████████████▊                                         | 125/200 [00:00<00:00, 247.40it/s]\u001b[A\n",
      "Loading not_distracted:  76%|████████████████████████████████████████████████████████████████████████████████████▏                         | 153/200 [00:00<00:00, 258.24it/s]\u001b[A\n",
      "Loading not_distracted:  90%|███████████████████████████████████████████████████████████████████████████████████████████████████▌          | 181/200 [00:00<00:00, 264.08it/s]\u001b[A\n",
      "Loading classes:  83%|█████████████████████████████████████████████████████████████████████████████████████████████████████▋                    | 5/6 [00:04<00:00,  1.23it/s]\u001b[A\n",
      "Loading texting:   0%|                                                                                                                                | 0/200 [00:00<?, ?it/s]\u001b[A\n",
      "Loading texting:   8%|██████████                                                                                                            | 17/200 [00:00<00:01, 169.98it/s]\u001b[A\n",
      "Loading texting:  17%|████████████████████                                                                                                  | 34/200 [00:00<00:01, 151.91it/s]\u001b[A\n",
      "Loading texting:  27%|███████████████████████████████▊                                                                                      | 54/200 [00:00<00:00, 170.25it/s]\u001b[A\n",
      "Loading texting:  36%|██████████████████████████████████████████▍                                                                           | 72/200 [00:00<00:00, 165.88it/s]\u001b[A\n",
      "Loading texting:  44%|████████████████████████████████████████████████████▌                                                                 | 89/200 [00:00<00:00, 160.05it/s]\u001b[A\n",
      "Loading texting:  57%|██████████████████████████████████████████████████████████████████▋                                                  | 114/200 [00:00<00:00, 188.32it/s]\u001b[A\n",
      "Loading texting:  67%|██████████████████████████████████████████████████████████████████████████████▍                                      | 134/200 [00:00<00:00, 191.86it/s]\u001b[A\n",
      "Loading texting:  77%|██████████████████████████████████████████████████████████████████████████████████████████                           | 154/200 [00:00<00:00, 186.96it/s]\u001b[A\n",
      "Loading texting:  88%|██████████████████████████████████████████████████████████████████████████████████████████████████████▉              | 176/200 [00:00<00:00, 195.12it/s]\u001b[A\n",
      "Loading texting: 100%|████████████████████████████████████████████████████████████████████████████████████████████████████████████████████▍| 199/200 [00:01<00:00, 205.13it/s]\u001b[A\n",
      "Loading classes: 100%|██████████████████████████████████████████████████████████████████████████████████████████████████████████████████████████| 6/6 [00:05<00:00,  1.16it/s]\u001b[A\n"
     ]
    },
    {
     "name": "stdout",
     "output_type": "stream",
     "text": [
      "Successfully loaded 1200 images\n",
      "Train: 768, Val: 192, Test: 240\n"
     ]
    }
   ],
   "source": [
    "from data_loadeer import load_data\n",
    "\n",
    "data_dir = \"data\"\n",
    "X, y = load_data(data_dir)\n",
    "\n",
    "from sklearn.model_selection import train_test_split\n",
    "X_train, X_test, y_train, y_test = train_test_split(X, y, test_size=0.2, random_state=42)\n",
    "X_train, X_val, y_train, y_val = train_test_split(X_train, y_train, test_size=0.2, random_state=42)\n",
    "\n",
    "print(f\"Train: {X_train.shape[0]}, Val: {X_val.shape[0]}, Test: {X_test.shape[0]}\")"
   ]
  },
  {
   "cell_type": "markdown",
   "metadata": {},
   "source": [
    "### train model"
   ]
  },
  {
   "cell_type": "code",
   "execution_count": 2,
   "metadata": {},
   "outputs": [
    {
     "name": "stdout",
     "output_type": "stream",
     "text": [
      "\n",
      "training started ............\n",
      "\n",
      "Processing Batch: 0 with batch size: 32\n",
      "Processing Batch: 1 with batch size: 32\n",
      "Processing Batch: 2 with batch size: 32\n",
      "Processing Batch: 3 with batch size: 32\n",
      "Processing Batch: 4 with batch size: 32\n",
      "Processing Batch: 5 with batch size: 32\n"
     ]
    },
    {
     "ename": "KeyboardInterrupt",
     "evalue": "",
     "output_type": "error",
     "traceback": [
      "\u001b[31m---------------------------------------------------------------------------\u001b[39m",
      "\u001b[31mKeyboardInterrupt\u001b[39m                         Traceback (most recent call last)",
      "\u001b[36mCell\u001b[39m\u001b[36m \u001b[39m\u001b[32mIn[2]\u001b[39m\u001b[32m, line 4\u001b[39m\n\u001b[32m      1\u001b[39m \u001b[38;5;28;01mfrom\u001b[39;00m\u001b[38;5;250m \u001b[39m\u001b[34;01mcnn\u001b[39;00m\u001b[38;5;250m \u001b[39m\u001b[38;5;28;01mimport\u001b[39;00m CNN\n\u001b[32m      3\u001b[39m model = CNN()\n\u001b[32m----> \u001b[39m\u001b[32m4\u001b[39m \u001b[43mmodel\u001b[49m\u001b[43m.\u001b[49m\u001b[43mtrain\u001b[49m\u001b[43m(\u001b[49m\u001b[43mX_train\u001b[49m\u001b[43m,\u001b[49m\n\u001b[32m      5\u001b[39m \u001b[43m            \u001b[49m\u001b[43my_train\u001b[49m\u001b[43m,\u001b[49m\n\u001b[32m      6\u001b[39m \u001b[43m            \u001b[49m\u001b[43mX_val\u001b[49m\u001b[43m,\u001b[49m\n\u001b[32m      7\u001b[39m \u001b[43m            \u001b[49m\u001b[43my_val\u001b[49m\u001b[43m,\u001b[49m\n\u001b[32m      8\u001b[39m \u001b[43m            \u001b[49m\u001b[43mepochs\u001b[49m\u001b[43m=\u001b[49m\u001b[32;43m20\u001b[39;49m\u001b[43m,\u001b[49m\n\u001b[32m      9\u001b[39m \u001b[43m            \u001b[49m\u001b[43mbatch_size\u001b[49m\u001b[43m=\u001b[49m\u001b[32;43m32\u001b[39;49m\u001b[43m,\u001b[49m\n\u001b[32m     10\u001b[39m \u001b[43m            \u001b[49m\u001b[43mlearning_rate\u001b[49m\u001b[43m=\u001b[49m\u001b[32;43m0.001\u001b[39;49m\u001b[43m,\u001b[49m\n\u001b[32m     11\u001b[39m \u001b[43m            \u001b[49m\u001b[43mcheckpoint_dir\u001b[49m\u001b[43m=\u001b[49m\u001b[33;43m\"\u001b[39;49m\u001b[33;43m./checkpoints\u001b[39;49m\u001b[33;43m\"\u001b[39;49m\u001b[43m,\u001b[49m\n\u001b[32m     12\u001b[39m \u001b[43m            \u001b[49m\u001b[43mcheckpoint_freq\u001b[49m\u001b[43m=\u001b[49m\u001b[32;43m1\u001b[39;49m\u001b[43m)\u001b[49m\n\u001b[32m     14\u001b[39m test_acc = model.evaluate(X_test, y_test)\n\u001b[32m     15\u001b[39m \u001b[38;5;28mprint\u001b[39m(\u001b[33mf\u001b[39m\u001b[33m\"\u001b[39m\u001b[33mFinal Test Accuracy: \u001b[39m\u001b[38;5;132;01m{\u001b[39;00mtest_acc*\u001b[32m100\u001b[39m\u001b[38;5;132;01m:\u001b[39;00m\u001b[33m.2f\u001b[39m\u001b[38;5;132;01m}\u001b[39;00m\u001b[33m%\u001b[39m\u001b[33m\"\u001b[39m)\n",
      "\u001b[36mFile \u001b[39m\u001b[32m~/Desktop/D3-AI/cnn.py:96\u001b[39m, in \u001b[36mCNN.train\u001b[39m\u001b[34m(self, X_train, y_train, X_val, y_val, epochs, batch_size, learning_rate, checkpoint_dir, checkpoint_freq, resume_from)\u001b[39m\n\u001b[32m     93\u001b[39m     total += \u001b[38;5;28mlen\u001b[39m(X_batch)\n\u001b[32m     95\u001b[39m     y_onehot = np.eye(NUM_CLASSES)[y_batch]\n\u001b[32m---> \u001b[39m\u001b[32m96\u001b[39m     \u001b[38;5;28;43mself\u001b[39;49m\u001b[43m.\u001b[49m\u001b[43mbackward\u001b[49m\u001b[43m(\u001b[49m\u001b[43my_onehot\u001b[49m\u001b[43m,\u001b[49m\u001b[43m \u001b[49m\u001b[43mlearning_rate\u001b[49m\u001b[43m)\u001b[49m\n\u001b[32m     98\u001b[39m \u001b[38;5;66;03m# Validation\u001b[39;00m\n\u001b[32m     99\u001b[39m val_output = \u001b[38;5;28mself\u001b[39m.forward(X_val)\n",
      "\u001b[36mFile \u001b[39m\u001b[32m~/Desktop/D3-AI/cnn.py:40\u001b[39m, in \u001b[36mCNN.backward\u001b[39m\u001b[34m(self, y_true, learning_rate)\u001b[39m\n\u001b[32m     38\u001b[39m \u001b[38;5;28;01mfor\u001b[39;00m layer \u001b[38;5;129;01min\u001b[39;00m \u001b[38;5;28mreversed\u001b[39m(\u001b[38;5;28mself\u001b[39m.layers):\n\u001b[32m     39\u001b[39m     \u001b[38;5;28;01mif\u001b[39;00m \u001b[38;5;28misinstance\u001b[39m(layer, (Dense, Conv2D)):\n\u001b[32m---> \u001b[39m\u001b[32m40\u001b[39m         d_out = \u001b[43mlayer\u001b[49m\u001b[43m.\u001b[49m\u001b[43mbackward\u001b[49m\u001b[43m(\u001b[49m\u001b[43md_out\u001b[49m\u001b[43m,\u001b[49m\u001b[43m \u001b[49m\u001b[43mlearning_rate\u001b[49m\u001b[43m)\u001b[49m\n\u001b[32m     41\u001b[39m     \u001b[38;5;28;01melse\u001b[39;00m:\n\u001b[32m     42\u001b[39m         d_out = layer.backward(d_out)\n",
      "\u001b[36mFile \u001b[39m\u001b[32m~/Desktop/D3-AI/convolution.py:85\u001b[39m, in \u001b[36mConv2D.backward\u001b[39m\u001b[34m(self, d_out, learning_rate)\u001b[39m\n\u001b[32m     80\u001b[39m     d_weights[:, :, :, f] += np.sum(\n\u001b[32m     81\u001b[39m         X_slice * d_out[:, i:i+\u001b[32m1\u001b[39m, j:j+\u001b[32m1\u001b[39m, f:f+\u001b[32m1\u001b[39m],\n\u001b[32m     82\u001b[39m         axis=\u001b[32m0\u001b[39m\n\u001b[32m     83\u001b[39m     )\n\u001b[32m     84\u001b[39m     \u001b[38;5;66;03m# Gradient for input\u001b[39;00m\n\u001b[32m---> \u001b[39m\u001b[32m85\u001b[39m     d_X_padded[:, h_start:h_end, w_start:w_end, :] += \\\n\u001b[32m     86\u001b[39m         \u001b[38;5;28mself\u001b[39m.weights[:, :, :, f] * d_out[:, i:i+\u001b[32m1\u001b[39m, j:j+\u001b[32m1\u001b[39m, f:f+\u001b[32m1\u001b[39m]\n\u001b[32m     88\u001b[39m \u001b[38;5;66;03m# Gradient for bias (moved outside f loop for efficiency)\u001b[39;00m\n\u001b[32m     89\u001b[39m d_bias += np.sum(d_out[:, i, j, :], axis=\u001b[32m0\u001b[39m)\n",
      "\u001b[31mKeyboardInterrupt\u001b[39m: "
     ]
    }
   ],
   "source": [
    "from cnn import CNN\n",
    "\n",
    "model = CNN()\n",
    "model.train(X_train,\n",
    "            y_train,\n",
    "            X_val,\n",
    "            y_val,\n",
    "            epochs=20,\n",
    "            batch_size=32,\n",
    "            learning_rate=0.001,\n",
    "            checkpoint_dir=\"./checkpoints\",\n",
    "            checkpoint_freq=1)\n",
    "\n",
    "test_acc = model.evaluate(X_test, y_test)\n",
    "print(f\"Final Test Accuracy: {test_acc*100:.2f}%\")\n",
    "\n",
    "# Save the trained model\n",
    "model_path = \"./d3_cnn_model.pkl\"\n",
    "model.save_model(model_path)"
   ]
  }
 ],
 "metadata": {
  "kernelspec": {
   "display_name": "Python 3 (ipykernel)",
   "language": "python",
   "name": "python3"
  },
  "language_info": {
   "codemirror_mode": {
    "name": "ipython",
    "version": 3
   },
   "file_extension": ".py",
   "mimetype": "text/x-python",
   "name": "python",
   "nbconvert_exporter": "python",
   "pygments_lexer": "ipython3",
   "version": "3.13.3"
  }
 },
 "nbformat": 4,
 "nbformat_minor": 4
}
